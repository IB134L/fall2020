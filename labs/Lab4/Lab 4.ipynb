{
 "cells": [
  {
   "cell_type": "markdown",
   "metadata": {},
   "source": [
    "# BASH EXERCISES\n",
    "\n",
    "##REMEMBER - WHEN RUNNING BASH EXERCISES, ADD %%bash PRIOR TO RUNNING A CELL!"
   ]
  },
  {
   "cell_type": "code",
   "execution_count": null,
   "metadata": {
    "scrolled": true
   },
   "outputs": [],
   "source": [
    "%%bash\n",
    "ls\n",
    "\n",
    "#for example!"
   ]
  },
  {
   "cell_type": "markdown",
   "metadata": {},
   "source": [
    "# PYTHON EXERCISES -- PIE CHART\n",
    "##YUM!"
   ]
  },
  {
   "cell_type": "code",
   "execution_count": null,
   "metadata": {},
   "outputs": [],
   "source": [
    "import pandas as pd\n",
    "\n",
    "#keep going from here! "
   ]
  },
  {
   "cell_type": "markdown",
   "metadata": {},
   "source": [
    "# PYTHON EXERCISES - STACKED BAR PLOTS\n",
    "##Remember to make a copy of this prior to any manipulation!"
   ]
  },
  {
   "cell_type": "code",
   "execution_count": null,
   "metadata": {
    "scrolled": false
   },
   "outputs": [],
   "source": [
    "import numpy as np\n",
    "import matplotlib as mpl\n",
    "import matplotlib.pyplot as plt\n",
    "\n",
    "N = 2 #number of different columns\n",
    "\n",
    "\"\"\"The next four lines are me assigning the percentages of \n",
    "retrotransposons (retro), transposons (transpo), simple repeats (simp) and \n",
    "non-repetitive sequences (nonrep)\"\"\"\n",
    "retro = (10.39, 1.47)\n",
    "transpo = (0, 8.56)\n",
    "simp = (5.21, 5.59)\n",
    "nonrep = (84.4, 84.38)\n",
    "\n",
    "ind = np.arange(2)    # the x locations for the groups\n",
    "#returns evenly spaced values with a given interval\n",
    "\n",
    "width = 0.25       # the width of the bars: can also be len(x) sequence\n",
    "\n",
    "\"\"\"The next four functions are establishing the size AND position of the\n",
    "'bars' for the different DNA elements.\"\"\"\n",
    "\n",
    "p1 = plt.bar(ind,\n",
    "             retro, #we are calling upon the retrotransposon dataest\n",
    "             width,\n",
    "            color='mediumslateblue') #and it will be this width that we set earlier\n",
    "\n",
    "\"\"\"\"The same applies for the next three, except we are able to 'stack' one on top\n",
    "of the other by indicating which stacks are at the 'bottom'.\"\"\"\n",
    "\"\"\"\"\"\"\n",
    "\n",
    "p2 = plt.bar(ind,\n",
    "             transpo,\n",
    "             width,\n",
    "             bottom=retro,\n",
    "            color='darkorchid')\n",
    "\n",
    "p3 = plt.bar(ind,\n",
    "            simp,\n",
    "            width,\n",
    "            bottom=transpo,\n",
    "            color='violet')\n",
    "\n",
    "p4= plt.bar(ind,\n",
    "           nonrep,\n",
    "           width,\n",
    "           bottom=simp,\n",
    "           color='lavender')\n",
    "\n",
    "plt.ylabel('% of genome') #creates a title for the y axis\n",
    "\n",
    "plt.xticks(ind, ('Frog', 'Fly')) #titles the x axis\n",
    "\n",
    "plt.title('Repeat Classes by Species') #title of the plot\n",
    "\n",
    "\n",
    "plt.yticks(np.arange(0, 100, 10))\n",
    "#sets the lower limit of the y axis; the upper limit; and the size of the 'ticks' \n",
    "#for example there is one tick per 10 percentage points\n",
    "\n",
    "plt.legend((p1[0], p2[0], p3[0], p4[0]), ('Retrotransposons',\n",
    "                                          'DNA Transposons',\n",
    "                                          'Simple Repeats',\n",
    "                                          'Non-Repeat DNA'))\n",
    "\"\"\"Creates a legend for the different DNA elements\"\"\"\n",
    "\n",
    "\n",
    "plt.show() #voila! "
   ]
  }
 ],
 "metadata": {
  "kernelspec": {
   "display_name": "Python 3",
   "language": "python",
   "name": "python3"
  },
  "language_info": {
   "codemirror_mode": {
    "name": "ipython",
    "version": 3
   },
   "file_extension": ".py",
   "mimetype": "text/x-python",
   "name": "python",
   "nbconvert_exporter": "python",
   "pygments_lexer": "ipython3",
   "version": "3.8.5"
  }
 },
 "nbformat": 4,
 "nbformat_minor": 4
}
